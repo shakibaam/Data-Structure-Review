{
  "nbformat": 4,
  "nbformat_minor": 0,
  "metadata": {
    "colab": {
      "provenance": []
    },
    "kernelspec": {
      "name": "python3",
      "display_name": "Python 3"
    },
    "language_info": {
      "name": "python"
    }
  },
  "cells": [
    {
      "cell_type": "markdown",
      "source": [
        "# Arrays\n",
        "\n",
        "- **O(1) to add/remove at end** (amortized for allocations for more space), index, or update\n",
        "- **O(n) to insert/remove elsewhere**\n",
        "- Contiguous in memory, so proximity helps performance\n",
        "- Space needed = (array capacity, which is >= n) * size of item, but even if 2n, still O(n)\n",
        "\n",
        "\n",
        "\n",
        "\n"
      ],
      "metadata": {
        "id": "R0MD7cwD3mj_"
      }
    },
    {
      "cell_type": "code",
      "source": [
        "scores = []\n",
        "scores [0] = 1"
      ],
      "metadata": {
        "id": "5bBoxm6C4LbD"
      },
      "execution_count": null,
      "outputs": []
    },
    {
      "cell_type": "markdown",
      "source": [
        "# Linked Lists\n",
        "\n",
        "When we want to store a massive amount of data in a simple array, it could be time-consuming to add to the end of the array because we have to copy all of our previous data into a bigger array. So, linked lists could be more dynamic, as they can grow or shrink as needed without affecting the original data. We can add our data in any place in our memory. However, we need a bit more space than just storing a single number to store some metadata to keep track of our actual data.\n",
        "\n",
        "Accessing elements: O(n)\n",
        "\n",
        "Insert/Remove from beginning: O(1)\n",
        "\n",
        "Insert/Remove from the end: O(n)\n",
        "\n",
        "Insert/Remove from middle: O(n)\n"
      ],
      "metadata": {
        "id": "J1bs6Gsb6D9y"
      }
    },
    {
      "cell_type": "code",
      "source": [
        "# Implementing link lists in Python\n",
        "\n",
        "\n",
        "# First create a node class\n",
        "\n",
        "class Node:\n",
        "  def __init__(self , data):\n",
        "    self.data = data\n",
        "    self.next = None\n",
        "\n",
        "  # Insert at begining of the link list\n",
        "  def insert_at_begin(self, data):\n",
        "    #create ne node\n",
        "    new_node = Node(data)\n",
        "\n",
        "    # if the head is empty then we make the new node the head\n",
        "    if self.head is None:\n",
        "      self.head = new_node\n",
        "      return\n",
        "    else:\n",
        "      new_node.next = self.head\n",
        "      self.head = new_node\n",
        "\n",
        "\n",
        "  # Insert at speicifc index\n",
        "  def insert_at_index(self, data, index):\n",
        "    #create a new node\n",
        "    new_node = Node(data)\n",
        "    current_node = self.head\n",
        "    position = 0\n",
        "    if position == index:\n",
        "      self.insert_at_begin(self, data)\n",
        "    else:\n",
        "      # Continue from the current node go ahead and add position by 1. if by adding position by 1 we reach the current node None it means the index is not available\n",
        "      while(current_node != None and position + 1 != index):\n",
        "        position +=1\n",
        "        current_node = current_node.next\n",
        "\n",
        "      if current_node != None:\n",
        "          new_node.next = current_node.next\n",
        "          current_node.next = new_node\n",
        "      else:\n",
        "          print('No Index')\n",
        "\n",
        "  # Insert at end of the link lists\n",
        "  def insert_at_end(self, data):\n",
        "    new_node = Node(data)\n",
        "    if self.head is None:\n",
        "      new_node = self.head\n",
        "      return\n",
        "\n",
        "    else:\n",
        "\n",
        "      current_node = self.head\n",
        "\n",
        "      while(current_node.next != None):\n",
        "        current_node = current_node.next\n",
        "\n",
        "      current_node.next = new_node\n",
        "\n",
        "\n",
        "  # delete first node of the link list\n",
        "  def delete_node_first(self):\n",
        "    if (self.head == None):\n",
        "      return\n",
        "    else:\n",
        "      self.head = self.head.next\n",
        "\n",
        "  #delete last node of the link list\n",
        "  def delete_node_last(self):\n",
        "    current_node = self.head\n",
        "    if(self.head == None):\n",
        "      return\n",
        "    else:\n",
        "      while(current_node.next.next!=None):\n",
        "        current_node = current_node.next\n",
        "\n",
        "      current_node.next = None\n",
        "\n",
        "  # delete link list node at a given position\n",
        "  def delete_position(self,index):\n",
        "    current_node = self.head\n",
        "    position = 0\n",
        "\n",
        "    if position == index :\n",
        "      self.delete_node_first()\n",
        "    else:\n",
        "      while(current_node!=None and position!=index):\n",
        "        position+=1\n",
        "        current_node = current_node.next\n",
        "\n",
        "      if current_node == None:\n",
        "        print('index not available')\n",
        "      else:\n",
        "        current_node.next = current_node.next.next\n",
        "\n",
        "\n"
      ],
      "metadata": {
        "id": "Jxk8wWCZI5iP"
      },
      "execution_count": null,
      "outputs": []
    },
    {
      "cell_type": "markdown",
      "source": [
        "# Stacks\n",
        "\n",
        "**LIFO**: Last In, First Out\n",
        "\n",
        "- **Push and Pop**: O(1)\n"
      ],
      "metadata": {
        "id": "jtB_gtLHkZOv"
      }
    },
    {
      "cell_type": "code",
      "source": [
        "class stack:\n",
        "  def __init__(self,data):\n",
        "    # we use an array to represent a stack\n",
        "    self.data = []\n",
        "\n",
        "  def push(self,node):\n",
        "    self.data.append(node)\n",
        "\n",
        " def pop(self):\n",
        "  self.data.pop()"
      ],
      "metadata": {
        "id": "LuU4lv8skp81"
      },
      "execution_count": null,
      "outputs": []
    },
    {
      "cell_type": "markdown",
      "source": [
        "# Queues\n",
        "\n",
        "**FIFO**: First In, First Out\n",
        "\n",
        "- Insert: Enqueue\n",
        "- Delete: Dequeue\n",
        "\n",
        "- **Access**: O(n)\n",
        "- **Search**: O(n)\n",
        "- **Insert**: O(1)\n",
        "- **Deletion**: O(1)\n",
        "\n",
        "\n"
      ],
      "metadata": {
        "id": "hY0Lv_iBlhAz"
      }
    },
    {
      "cell_type": "code",
      "source": [
        "from collections import dequeue\n",
        "\n",
        "class queue:\n",
        "  def __init__(self):\n",
        "    self.data = dequeue()\n",
        "\n",
        "  def enqueue(self,node):\n",
        "    self.data.append(node)\n",
        "\n",
        "  def dequeue(self):\n",
        "    self.data.popleft()\n",
        "\n",
        "#Implement Queue using link lists\n",
        "\n",
        "class Node:\n",
        "  def __init__(self,data):\n",
        "    self.data = data\n",
        "    self.next = None\n",
        "\n",
        "class Queue:\n",
        "  def __init__(self):\n",
        "    self.front = self.rear = None\n",
        "\n",
        "  def enqueue(self,data):\n",
        "\n",
        "    new_node = Node(data)\n",
        "    if(self.rear == None):\n",
        "      self.front = self.rear = new_node\n",
        "    else:\n",
        "      self.rear.next = new_node\n",
        "      self.rear = new_node\n",
        "\n",
        "  def dequeue(self):\n",
        "    if(self.front == None):\n",
        "      return\n",
        "\n",
        "    self.front = self.front.next\n",
        "\n",
        "    if(self.front == None):\n",
        "      self.rear = None\n",
        "\n"
      ],
      "metadata": {
        "id": "PDiDsQVUmdmd"
      },
      "execution_count": null,
      "outputs": []
    },
    {
      "cell_type": "markdown",
      "source": [
        "# Binary Search\n",
        "O(logn)"
      ],
      "metadata": {
        "id": "SStHir1yvbz9"
      }
    },
    {
      "cell_type": "code",
      "source": [
        "def binary_search(arr, low, high, x):\n",
        "\n",
        "    # Check base case\n",
        "    if high >= low:\n",
        "\n",
        "        mid = (high + low) // 2\n",
        "\n",
        "        # If element is present at the middle itself\n",
        "        if arr[mid] == x:\n",
        "            return mid\n",
        "\n",
        "        # If element is smaller than mid, then it can only\n",
        "        # be present in left subarray\n",
        "        elif arr[mid] > x:\n",
        "            return binary_search(arr, low, mid - 1, x)\n",
        "\n",
        "        # Else the element can only be present in right subarray\n",
        "        else:\n",
        "            return binary_search(arr, mid + 1, high, x)\n",
        "\n",
        "    else:\n",
        "        # Element is not present in the array\n",
        "        return -1\n",
        "\n",
        "\n",
        "\n",
        "arr = [ 2, 3, 4, 10, 40 ]\n",
        "x = 10\n",
        "\n",
        "# Function call\n",
        "result = binary_search(arr, 0, len(arr)-1, x)\n",
        "\n",
        "if result != -1:\n",
        "    print(\"Element is present at index\", str(result))\n",
        "else:\n",
        "    print(\"Element is not present in array\")\n"
      ],
      "metadata": {
        "colab": {
          "base_uri": "https://localhost:8080/"
        },
        "id": "kSqkIHn2vd6M",
        "outputId": "3f7da1b5-c9ae-465b-cf9e-f943fc1d3fac"
      },
      "execution_count": null,
      "outputs": [
        {
          "output_type": "stream",
          "name": "stdout",
          "text": [
            "Element is present at index 3\n"
          ]
        }
      ]
    },
    {
      "cell_type": "markdown",
      "source": [
        "# BFS\n",
        "level order (BFS, using queue)\n",
        "<br>\n",
        "time complexity: O(n)\n",
        "<br>\n",
        "space complexity: best: O(1), worst: O(n/2)=O(n)"
      ],
      "metadata": {
        "id": "-g7ncII90JLt"
      }
    },
    {
      "cell_type": "markdown",
      "source": [
        "# DFS\n",
        "time complexity: O(n)\n",
        "<br>\n",
        "space complexity: best: O(log n) - avg. height of tree worst: O(n)\n",
        "<br>\n",
        "inorder (DFS: left, self, right)\n",
        "<br>\n",
        "postorder (DFS: left, right, self)\n",
        "<br>\n",
        "preorder (DFS: self, left, right)"
      ],
      "metadata": {
        "id": "iMyCyJjE0e_I"
      }
    },
    {
      "cell_type": "markdown",
      "source": [
        "# Binary Search Tree\n",
        "\n",
        "- Each node has up to two children, where right nodes are larger than the root and left nodes are smaller.\n",
        "- When we want to delete a node with two children, we have to search for the smallest number in the right subtree to replace it with the deleted node.\n",
        "\n",
        "Runtime: Depth of tree\n",
        "\n"
      ],
      "metadata": {
        "id": "3hq7_L9f-Ahk"
      }
    },
    {
      "cell_type": "code",
      "source": [
        "class BST:\n",
        "  def __init__(self,val=None):\n",
        "    self.right = None\n",
        "    self.left = None\n",
        "    self.val = val\n",
        "\n",
        "  def insert(self,val):\n",
        "    if not self.val:\n",
        "      self.val = val\n",
        "      return\n",
        "    if self.val == val:\n",
        "      return\n",
        "\n",
        "\n",
        "    if self.val > val:\n",
        "      if self.left:\n",
        "        self.left.insert(val)\n",
        "        return\n",
        "      else:\n",
        "        self.left =  BST(val)\n",
        "        return\n",
        "\n",
        "    elif self.val<val:\n",
        "      if self.right:\n",
        "        self.right.insert(val)\n",
        "        return\n",
        "      else:\n",
        "        self.right =  BST(val)\n",
        "        return\n",
        "\n",
        "  def get_min(self):\n",
        "    current = self\n",
        "    while(current.left!=None):\n",
        "      current = current.left\n",
        "    min = current.val\n",
        "    return min\n",
        "\n",
        "  def get_max(self):\n",
        "    current = self\n",
        "    while(current.right!=None):\n",
        "      current = current.right\n",
        "    max = current.val\n",
        "    return max\n",
        "\n",
        "  def delete(self,val):\n",
        "\n",
        "    if self is None :\n",
        "      return self\n",
        "\n",
        "    # if the val is grater than the root value\n",
        "    if self.val>val:\n",
        "      self.left = self.left.delete(val)\n",
        "    elif self.val<val:\n",
        "      self.right = self.right.delete(val)\n",
        "\n",
        "   # find the root to delete\n",
        "    else:\n",
        "      # the node does not have right children\n",
        "      if self.right is None:\n",
        "        return self.left\n",
        "\n",
        "      # the node does not have left children\n",
        "      if self.left is None:\n",
        "        return self.right\n",
        "      # the node have both right and left children\n",
        "      else:\n",
        "        temp_node = self.right\n",
        "        temp_min = self.right.val\n",
        "        while(temp_node.left!=None):\n",
        "            temp_min = temp_node.left.val\n",
        "            temp_node = temp_node.left\n",
        "\n",
        "        self.val = temp_min\n",
        "        self.right = self.right.delete(temp_node)\n",
        "        return self\n",
        "\n",
        "\n",
        "\n",
        "\n"
      ],
      "metadata": {
        "id": "lEMchID8AeG0"
      },
      "execution_count": null,
      "outputs": []
    },
    {
      "cell_type": "markdown",
      "source": [
        "# Heap\n",
        "\n",
        "- **getMin():** It returns the root element of Min Heap. Time Complexity of this operation is O(1).\n",
        "\n",
        "- **extractMin():** Removes the minimum element from MinHeap. Time Complexity of this Operation is O(Log n) as this operation needs to maintain the heap property (by calling heapify()) after removing root.\n",
        "\n",
        "- **insert():** Inserting a new key takes O(Log n) time. We add a new key at the end of the tree. If the new key is larger than its parent, then we don’t need to do anything. Otherwise, we need to traverse up to fix the violated heap property.\n",
        "\n",
        "We know the index of a left child is given by “2k + 1” and the right child is given by “2k + 2”. The parent is given by \"k-1/2\".\n"
      ],
      "metadata": {
        "id": "JIYduLghwTog"
      }
    },
    {
      "cell_type": "code",
      "source": [
        "def max_heapify(a, heap_size, i):\n",
        "    l = 2*i + 1\n",
        "    r = 2*i + 2\n",
        "    largest = i\n",
        "\n",
        "    if l < heap_size and a[l] > a[largest]:\n",
        "        largest = l\n",
        "    if r < heap_size and a[r] > a[largest]:\n",
        "        largest = r\n",
        "\n",
        "    if largest != i:\n",
        "        a[i], a[largest] = a[largest], a[i]\n",
        "        max_heapify(a, heap_size, largest)\n",
        "\n",
        "def build_max_heap(a):\n",
        "    # Starting from the last non-leaf node and going up to the root\n",
        "    for i in range(len(a)//2 - 1, -1, -1):\n",
        "        max_heapify(a, len(a), i)\n",
        "    return a\n",
        "\n",
        "\n",
        "def insert_heap(val,a):\n",
        "  a.append(val)\n",
        "  max_heapify(a, len(a), len(a)-1)\n",
        "  return a\n",
        "\n",
        "\n",
        "def delete_node(val,a):\n",
        "  for i in range(len(a)):\n",
        "    if a[i] == val:\n",
        "      break\n",
        "\n",
        "  # Swap with the last node\n",
        "  a[len(a)-1], a[i] = a[i] , a[len(a)-1]\n",
        "  a.remove(val)\n",
        "  for i in range((len(a)//2), 0, -1):\n",
        "        max_heapify(a, len(a), i)\n",
        "  return a\n"
      ],
      "metadata": {
        "id": "6lcXgCQnwVU7"
      },
      "execution_count": null,
      "outputs": []
    },
    {
      "cell_type": "code",
      "source": [
        "build_max_heap([1, 4, 7, 19, 8])"
      ],
      "metadata": {
        "colab": {
          "base_uri": "https://localhost:8080/"
        },
        "id": "9qitzu8I6i2z",
        "outputId": "53301226-3ced-4dbe-b654-7432b797c48c"
      },
      "execution_count": null,
      "outputs": [
        {
          "output_type": "execute_result",
          "data": {
            "text/plain": [
              "[19, 8, 7, 4, 1]"
            ]
          },
          "metadata": {},
          "execution_count": 26
        }
      ]
    },
    {
      "cell_type": "markdown",
      "source": [
        "# Merge Sort\n",
        "Time Complexity:<br>\n",
        "Best Case: O(n log n), When the array is already sorted or nearly sorted.\n",
        "<br>\n",
        "Average Case: O(n log n), When the array is randomly ordered.\n",
        "<br>\n",
        "Worst Case: O(n log n), When the array is sorted in reverse order.\n",
        "<br>\n",
        "Space Complexity: O(n), Additional space is required for the temporary array used during merging."
      ],
      "metadata": {
        "id": "9RFnYL478kik"
      }
    },
    {
      "cell_type": "code",
      "source": [
        "def merge(arr1,arr2):\n",
        "  i = 0\n",
        "  j = 0\n",
        "  result = []\n",
        "  while(i<len(arr1) and j<len(arr2)):\n",
        "    if(arr1[i]<arr2[j]):\n",
        "      result.append(arr1[i])\n",
        "      i+=1\n",
        "    elif(arr2[j]<arr1[i]):\n",
        "      result.append(arr2[j])\n",
        "      j+=1\n",
        "  while(i<len(arr1)):\n",
        "    result.append(arr1[i])\n",
        "    i+=1\n",
        "  while(j<len(arr2)):\n",
        "    result.append(arr2[j])\n",
        "    j+=1\n",
        "\n",
        "  return result\n",
        "\n",
        "\n",
        "def merge_sort(arr):\n",
        "  if(len(arr)<=1):\n",
        "    return arr\n",
        "  mid = len(arr)//2\n",
        "  left = merge_sort(arr[:mid])\n",
        "  right = merge_sort(arr[mid:])\n",
        "  return merge(left,right)\n",
        "\n",
        "\n",
        "print(merge_sort([1,8,3,12,5]))"
      ],
      "metadata": {
        "colab": {
          "base_uri": "https://localhost:8080/"
        },
        "id": "Alv08UWC8m-1",
        "outputId": "5d65462c-0cfa-4049-dac7-355f11e0262b"
      },
      "execution_count": null,
      "outputs": [
        {
          "output_type": "stream",
          "name": "stdout",
          "text": [
            "[1, 3, 5, 8, 12]\n"
          ]
        }
      ]
    },
    {
      "cell_type": "markdown",
      "source": [
        "#Quick Sort\n",
        "\n",
        "Time Complexity:\n",
        "\n",
        "Best Case: Ω (N log (N))\n",
        "<br>\n",
        "The best-case scenario for quicksort occur when the pivot chosen at the each step divides the array into roughly equal halves.\n",
        "In this case, the algorithm will make balanced partitions, leading to efficient Sorting.\n",
        "<br>\n",
        "Average Case: θ ( N log (N))\n",
        "<br>\n",
        "Quicksort’s average-case performance is usually very good in practice, making it one of the fastest sorting Algorithm.\n",
        "<br>\n",
        "Worst Case: O(N2)\n",
        "<br>\n",
        "The worst-case Scenario for Quicksort occur when the pivot at each step consistently results in highly unbalanced partitions. When the array is already sorted and the pivot is always chosen as the smallest or largest element. To mitigate the worst-case Scenario, various techniques are used such as choosing a good pivot (e.g., median of three) and using Randomized algorithm (Randomized Quicksort ) to shuffle the element before sorting.\n",
        "<br>\n",
        "Auxiliary Space: O(1), if we don’t consider the recursive stack space. If we consider the recursive stack space then, in the worst case quicksort could make O(N)."
      ],
      "metadata": {
        "id": "TZou87BP-aNX"
      }
    },
    {
      "cell_type": "code",
      "source": [
        "def partition(array, low, high):\n",
        "\n",
        "    # Choose the rightmost element as pivot\n",
        "    pivot = array[high]\n",
        "\n",
        "    # Pointer for greater element\n",
        "    i = low - 1\n",
        "\n",
        "    # Traverse through all elements\n",
        "    # compare each element with pivot\n",
        "    for j in range(low, high):\n",
        "        if array[j] <= pivot:\n",
        "\n",
        "            # If element smaller than pivot is found\n",
        "            # swap it with the greater element pointed by i\n",
        "            i = i + 1\n",
        "\n",
        "            # Swapping element at i with element at j\n",
        "            (array[i], array[j]) = (array[j], array[i])\n",
        "\n",
        "    # Swap the pivot element with\n",
        "    # the greater element specified by i\n",
        "    (array[i + 1], array[high]) = (array[high], array[i + 1])\n",
        "\n",
        "    # Return the position from where partition is done\n",
        "    return i + 1\n",
        "\n",
        "\n",
        "# Function to perform quicksort\n",
        "def quicksort(array, low, high):\n",
        "    if low < high:\n",
        "\n",
        "        # Find pivot element such that\n",
        "        # element smaller than pivot are on the left\n",
        "        # element greater than pivot are on the right\n",
        "        pi = partition(array, low, high)\n",
        "\n",
        "        # Recursive call on the left of pivot\n",
        "        quicksort(array, low, pi - 1)\n",
        "\n",
        "        # Recursive call on the right of pivot\n",
        "        quicksort(array, pi + 1, high)\n",
        "\n",
        "\n",
        "\n",
        "print(quicksort([2,0,16,8],0,3))# Driver code\n",
        "if __name__ == '__main__':\n",
        "    array = [10, 7, 8, 9, 1, 5]\n",
        "    N = len(array)\n",
        "\n",
        "    # Function call\n",
        "    quicksort(array, 0, N - 1)\n",
        "    print('Sorted array:')\n",
        "    for x in array:\n",
        "        print(x, end=\" \")\n"
      ],
      "metadata": {
        "colab": {
          "base_uri": "https://localhost:8080/"
        },
        "id": "nUO3d7QO-b-c",
        "outputId": "67da3aef-8bfa-49d2-e70b-b90e8b8f1d26"
      },
      "execution_count": null,
      "outputs": [
        {
          "output_type": "stream",
          "name": "stdout",
          "text": [
            "None\n",
            "Sorted array:\n",
            "1 5 7 8 9 10 "
          ]
        }
      ]
    },
    {
      "cell_type": "markdown",
      "source": [
        "# Insertion Sort\n",
        "\n",
        "Time Complexity of Insertion Sort\n",
        "<br>\n",
        "Best case: O(n), If the list is already sorted, where n is the number of elements in the list.\n",
        "<br>\n",
        "Average case: O(n2), If the list is randomly ordered\n",
        "<br>\n",
        "Worst case: O(n2), If the list is in reverse order\n",
        "<br>\n",
        "Space Complexity of Insertion Sort\n",
        "<br>\n",
        "Auxiliary Space: O(1), Insertion sort requires O(1) additional space, making it a space-efficient sorting algorithm."
      ],
      "metadata": {
        "id": "HTE6E4JrFQg0"
      }
    },
    {
      "cell_type": "code",
      "source": [
        "def insertion_sort(arr):\n",
        "  for i in range(len(arr)):\n",
        "    key = arr[i]\n",
        "    j = i-1\n",
        "    # Move elements of arr[0..i-1], that are\n",
        "    # greater than key, to one position ahead\n",
        "    # of their current position\n",
        "    while(j>=0 and key<arr[j]):\n",
        "      arr[j+1] = arr[j]\n",
        "      j-=1\n",
        "    arr[j+1] = key\n"
      ],
      "metadata": {
        "id": "Mpo2Jt1dFTdy"
      },
      "execution_count": null,
      "outputs": []
    },
    {
      "cell_type": "markdown",
      "source": [
        "# Selection Sort\n",
        "Time Complexity: The time complexity of Selection Sort is O(N2) as there are two nested loops\n",
        "\n",
        "Auxiliary Space: O(1) as the only extra memory used is for temporary variables while swapping two values in Array."
      ],
      "metadata": {
        "id": "cVhER11lF-EL"
      }
    },
    {
      "cell_type": "code",
      "source": [
        "def selection_sort(arr):\n",
        "  for i in range(len(arr)):\n",
        "    temp_min = arr[i]\n",
        "    for j in range(i+1,len(arr)):\n",
        "      if arr[j]<arr[temp_min]:\n",
        "        min_index = j\n",
        "    arr [min_index] , arr[i] = arr[i] , arr[min_index]\n"
      ],
      "metadata": {
        "id": "ExRuPG3xGBiK"
      },
      "execution_count": null,
      "outputs": []
    },
    {
      "cell_type": "markdown",
      "source": [
        "# Bubble Sort\n",
        "Time Complexity: O(N2)\n",
        "\n",
        "Auxiliary Space: O(1)"
      ],
      "metadata": {
        "id": "7R5ekXdcIROi"
      }
    },
    {
      "cell_type": "code",
      "source": [
        "def bubble_sort(arr):\n",
        "  for i in range(len(arr)):\n",
        "    for j in range(0,len(arr)-i-1):\n",
        "      if(arr[j]>arr[j+1]):\n",
        "        arr[j] , arr[j+1] = arr[j+1] , arr[j]\n"
      ],
      "metadata": {
        "id": "dfqjA3ShIThG"
      },
      "execution_count": null,
      "outputs": []
    }
  ]
}